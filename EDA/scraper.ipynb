{
 "cells": [
  {
   "cell_type": "code",
   "execution_count": 1,
   "id": "b91ea66d-c2df-4bb2-a61b-1efea288655c",
   "metadata": {},
   "outputs": [],
   "source": [
    "import requests\n",
    "from bs4 import BeautifulSoup\n",
    "import pandas as pd"
   ]
  },
  {
   "cell_type": "code",
   "execution_count": 2,
   "id": "7a9f3f29-9ef6-4c72-90d1-4bfa7af431c0",
   "metadata": {},
   "outputs": [],
   "source": [
    "base_url = \"https://www.airlinequality.com/airline-reviews/british-airways\"\n",
    "pages = 10\n",
    "page_size = 100"
   ]
  },
  {
   "cell_type": "code",
   "execution_count": null,
   "id": "540022f2",
   "metadata": {},
   "outputs": [
    {
     "name": "stdout",
     "output_type": "stream",
     "text": [
      "Scraping page 1\n",
      "Found 100 reviews\n",
      "Collected 100 reviews on page 1\n",
      "Scraping page 2\n",
      "Found 200 reviews\n",
      "Collected 100 reviews on page 2\n",
      "Scraping page 3\n",
      "Found 300 reviews\n",
      "Collected 100 reviews on page 3\n",
      "Scraping page 4\n",
      "Found 400 reviews\n",
      "Collected 100 reviews on page 4\n",
      "Scraping page 5\n",
      "Found 500 reviews\n",
      "Collected 100 reviews on page 5\n",
      "Scraping page 6\n",
      "Found 600 reviews\n",
      "Collected 100 reviews on page 6\n",
      "Scraping page 7\n",
      "Found 700 reviews\n",
      "Collected 100 reviews on page 7\n",
      "Scraping page 8\n",
      "Found 800 reviews\n",
      "Collected 100 reviews on page 8\n",
      "Scraping page 9\n",
      "Found 900 reviews\n",
      "Collected 100 reviews on page 9\n",
      "Scraping page 10\n",
      "Found 1000 reviews\n",
      "Collected 100 reviews on page 10\n",
      "Final counts: {'seat_comfort': 1000, 'cabin_staff_service': 1000, 'food_and_beverages': 1000, 'inflight_entertainment': 1000, 'ground_service': 1000, 'wifi_and_connectivity': 1000, 'value_for_money': 1000}\n"
     ]
    }
   ],
   "source": [
    "reviews = []\n",
    "rating = []\n",
    "ratings_dict = {\n",
    "    \"seat_comfort\": [],\n",
    "    \"cabin_staff_service\": [],\n",
    "    \"food_and_beverages\": [],\n",
    "    \"inflight_entertainment\": [],\n",
    "    \"ground_service\": [],\n",
    "    \"wifi_and_connectivity\": [],\n",
    "    \"value_for_money\": [],\n",
    "}\n",
    "recommended = []\n",
    "\n",
    "for i in range (1,pages + 1):\n",
    "    print(f\"Scraping page {i}\")\n",
    "    url = f\"{base_url}/page{i}/?sortby=post_date%3ADesc&pagesize={page_size}\"\n",
    "\n",
    "    response = requests.get(url)\n",
    "    content = response.content\n",
    "    parsed_content = BeautifulSoup(content, 'html.parser')\n",
    "\n",
    "    # reviews\n",
    "    for para in parsed_content.find_all('div', class_='text_content'):\n",
    "        reviews.append(para.get_text())   \n",
    "\n",
    "    # rating\n",
    "    for rate in parsed_content.find_all('span',itemprop='ratingValue'):\n",
    "        if not rate.find_parent(\"div\", class_=\"rating-10 rating-large\"):\n",
    "            rating.append(rate.text)\n",
    "\n",
    "    # recommend\n",
    "    for recommendation in parsed_content.find_all('td', class_=\"review-value\"):\n",
    "            if recommendation.find_parent(\"tr\").find(\"td\", class_=\"review-rating-header recommended\"):\n",
    "                recommended_status = recommendation.text.strip()\n",
    "                recommended.append(recommended_status)\n",
    "    \n",
    "    print(f\"Found {len(reviews)} reviews\")\n",
    "\n",
    "    # Find all review sections (assuming each review is inside a div with class=\"body\")\n",
    "    review_rows = parsed_content.find_all(\"div\", class_=\"body\")\n",
    "\n",
    "    for review in review_rows:\n",
    "        for category in ratings_dict.keys():\n",
    "            # Find the specific <td> for this category within the review\n",
    "            rating_td = review.find(\"td\", class_=f\"review-rating-header {category}\")\n",
    "\n",
    "            if rating_td:\n",
    "                # Get the next <td> sibling that contains the stars\n",
    "                star_td = rating_td.find_next_sibling(\"td\", class_=\"review-rating-stars stars\")\n",
    "\n",
    "                if star_td:\n",
    "                    star_count = len(star_td.find_all(\"span\", class_=\"star fill\"))\n",
    "                    ratings_dict[category].append(star_count)\n",
    "                else:\n",
    "                    ratings_dict[category].append(\"NA\")  # No stars found\n",
    "            else:\n",
    "                ratings_dict[category].append(\"NA\")  # No rating found\n",
    "\n",
    "    print(f\"Collected {len(review_rows)} reviews on page {i}\")\n",
    "\n",
    "# Ensure all lists match expected review count (1000 total)\n",
    "for key in ratings_dict:\n",
    "    while len(ratings_dict[key]) < 1000:  \n",
    "        ratings_dict[key].append(\"NA\")\n",
    "\n",
    "print(f\"Final counts: { {k: len(v) for k, v in ratings_dict.items()} }\")"
   ]
  },
  {
   "cell_type": "code",
   "execution_count": 27,
   "id": "f6466792",
   "metadata": {},
   "outputs": [
    {
     "name": "stdout",
     "output_type": "stream",
     "text": [
      "                                             Reviews Overall Ratings  \\\n",
      "0  ✅ Trip Verified |   This time British Airways ...               9   \n",
      "1  ✅ Trip Verified |   The seats were excellent, ...               9   \n",
      "2  ✅ Trip Verified |   After the nightmare of get...               5   \n",
      "3  ✅ Trip Verified |   Prior to boarding a gate a...               3   \n",
      "4  ✅ Trip Verified |   I flew from Amsterdam to L...               1   \n",
      "\n",
      "  Recommended seat_comfort cabin_staff_service food_and_beverages  \\\n",
      "0         yes            5                   5                  4   \n",
      "1         yes            5                   4                  3   \n",
      "2          no            4                   1                  2   \n",
      "3          no            4                   1                 NA   \n",
      "4          no            3                   3                  3   \n",
      "\n",
      "  inflight_entertainment ground_service wifi_and_connectivity  value_for_money  \n",
      "0                      4              5                     4                5  \n",
      "1                      5              4                    NA                5  \n",
      "2                      3              4                    NA                3  \n",
      "3                     NA              2                    NA                2  \n",
      "4                      3              1                    NA                1  \n"
     ]
    }
   ],
   "source": [
    "df_1 = pd.DataFrame({\"Reviews\": reviews, \"Overall Ratings\": rating, \"Recommended\":recommended})\n",
    "df_2 = pd.DataFrame(ratings_dict)\n",
    "\n",
    "if len(df_1)!=len(df_2):\n",
    "    raise ValueError(\"Mismatch in number of reviews and ratings!\")\n",
    "df = pd.concat([df_1,df_2], axis=1)\n",
    "print(df.head())"
   ]
  },
  {
   "cell_type": "code",
   "execution_count": null,
   "id": "7bc08471",
   "metadata": {},
   "outputs": [],
   "source": [
    "df.to_csv(\"BA_reviews.csv\", index=False)"
   ]
  },
  {
   "cell_type": "code",
   "execution_count": null,
   "id": "e810f402",
   "metadata": {},
   "outputs": [],
   "source": []
  }
 ],
 "metadata": {
  "kernelspec": {
   "display_name": "base",
   "language": "python",
   "name": "python3"
  },
  "language_info": {
   "codemirror_mode": {
    "name": "ipython",
    "version": 3
   },
   "file_extension": ".py",
   "mimetype": "text/x-python",
   "name": "python",
   "nbconvert_exporter": "python",
   "pygments_lexer": "ipython3",
   "version": "3.12.7"
  }
 },
 "nbformat": 4,
 "nbformat_minor": 5
}
